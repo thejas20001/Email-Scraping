{
 "cells": [
  {
   "cell_type": "code",
   "execution_count": 10,
   "id": "8e2ef8fc",
   "metadata": {},
   "outputs": [
    {
     "name": "stdout",
     "output_type": "stream",
     "text": [
      "Enter the filename: test.txt\n",
      "['thejasm52@gmail.com']\n",
      "['thejasm2021@gmail.com']\n",
      "['manoj8rohith@gmail.com']\n",
      "['thejasm11edu@gmail.com', 'thejasm11@gmail.com']\n"
     ]
    }
   ],
   "source": [
    "import re\n",
    "fname = input(\"Enter the filename: \")\n",
    "try:\n",
    "    fhand = open(fname)\n",
    "    for line in fhand:\n",
    "        line = line.strip()\n",
    "        find = re.findall('[0-9a-zA-Z]+@[0-9a-zA-Z]+\\.[0-9a-zA-Z]+',line)\n",
    "        if(len(find)>0):\n",
    "            print(find)\n",
    "except:\n",
    "    print(\"file not found\")"
   ]
  },
  {
   "cell_type": "code",
   "execution_count": null,
   "id": "cfe1d927",
   "metadata": {},
   "outputs": [],
   "source": []
  }
 ],
 "metadata": {
  "kernelspec": {
   "display_name": "Python 3",
   "language": "python",
   "name": "python3"
  },
  "language_info": {
   "codemirror_mode": {
    "name": "ipython",
    "version": 3
   },
   "file_extension": ".py",
   "mimetype": "text/x-python",
   "name": "python",
   "nbconvert_exporter": "python",
   "pygments_lexer": "ipython3",
   "version": "3.8.8"
  }
 },
 "nbformat": 4,
 "nbformat_minor": 5
}
